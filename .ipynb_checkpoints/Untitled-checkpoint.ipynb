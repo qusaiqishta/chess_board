{
 "cells": [
  {
   "cell_type": "code",
   "execution_count": 11,
   "id": "f5475223-c8e5-429f-840c-0a04d8406c7e",
   "metadata": {},
   "outputs": [],
   "source": [
    "\n",
    "\n",
    "import numpy as np\n",
    "import matplotlib.pyplot as plt\n",
    "import matplotlib.image as mpimg\n",
    "from random import random\n"
   ]
  },
  {
   "cell_type": "code",
   "execution_count": 35,
   "id": "d6f16e1c-cb13-47a3-8ab9-1a2fe48e11f2",
   "metadata": {},
   "outputs": [],
   "source": [
    "class ChessBoard:\n",
    "    white=[1,1,1]\n",
    "    black=[0,0,0]\n",
    "    red=[1,.2,0]\n",
    "    blue=[0,1,1]\n",
    "    \n",
    "    def __init__(self):\n",
    "        self.grid=np.zeros([8,8,3])\n",
    "        for i in range(8):\n",
    "            for j in range(8):\n",
    "                if(i%2==0 and j%2==0) or (i%2==1 and j%2==1):\n",
    "                    self.grid[i,j]=ChessBoard.white\n",
    "                    \n",
    "    def add_red(self,row,col):\n",
    "        self.grid[row,col]=ChessBoard.red\n",
    "        self.red=[row,col]\n",
    "        \n",
    "    def add_blue(self,row,col):\n",
    "        self.grid[row,col]=ChessBoard.blue   \n",
    "        self.blue=[row,col]\n",
    "        \n",
    "    def render(self):\n",
    "        plt.imshow(self.grid)\n",
    "        \n",
    "    def is_under_attack(self):\n",
    "        if self.red[0]==self.blue[0]:\n",
    "            return True\n",
    "        elif self.red[1]==self.blue[1]:\n",
    "            return True\n",
    "        elif abs(self.red[1]-self.blue[1])==abs(self.red[0]-self.blue[0]):\n",
    "            return True\n",
    "        \n",
    "        else:\n",
    "            return False\n",
    "                    \n",
    "    "
   ]
  },
  {
   "cell_type": "code",
   "execution_count": 25,
   "id": "439d15f3-5240-4f18-8270-2f3e42e438cc",
   "metadata": {},
   "outputs": [
    {
     "data": {
      "image/png": "[encoded data removed]",
      "text/plain": [
       "<Figure size 432x288 with 1 Axes>"
      ]
     },
     "metadata": {
      "needs_background": "light"
     },
     "output_type": "display_data"
    }
   ],
   "source": [
    "chess=ChessBoard()\n",
    "chess.add_red(1,2)\n",
    "chess.add_blue(3,4)\n",
    "chess.render()"
   ]
  },
  {
   "cell_type": "markdown",
   "id": "329516cf-d96a-4e64-88bc-6947d7fd655d",
   "metadata": {},
   "source": []
  },
  {
   "cell_type": "code",
   "execution_count": 26,
   "id": "70004008-6e59-4dcc-9ff5-7e8392c09f24",
   "metadata": {},
   "outputs": [
    {
     "name": "stdout",
     "output_type": "stream",
     "text": [
      "That is correct we are in peace \n"
     ]
    }
   ],
   "source": [
    "#check when there is no attack\n",
    "\n",
    "test_board=ChessBoard()\n",
    "test_board.add_red(1,1)\n",
    "test_board.add_blue(5,6)\n",
    "assert test_board.is_under_attack()==False\n",
    "print('That is correct we are in peace ')"
   ]
  },
  {
   "cell_type": "code",
   "execution_count": 37,
   "id": "dd0159d2-5c8f-4e10-ba99-2db9ec4470bf",
   "metadata": {},
   "outputs": [
    {
     "name": "stdout",
     "output_type": "stream",
     "text": [
      "There is a horizantal attack\n"
     ]
    }
   ],
   "source": [
    "# check a horizantal attack\n",
    "test_board=ChessBoard()\n",
    "test_board.add_red(1,1)\n",
    "test_board.add_blue(1,3)\n",
    "assert test_board.is_under_attack()==True\n",
    "print('There is a horizantal attack')\n"
   ]
  },
  {
   "cell_type": "code",
   "execution_count": 38,
   "id": "9d307a56-eed8-4355-be9d-011b1f39bbb6",
   "metadata": {},
   "outputs": [
    {
     "name": "stdout",
     "output_type": "stream",
     "text": [
      "There is a vertical attack\n"
     ]
    }
   ],
   "source": [
    "# check a vertical attack\n",
    "test_board=ChessBoard()\n",
    "test_board.add_red(2,1)\n",
    "test_board.add_blue(4,1)\n",
    "assert test_board.is_under_attack()==True\n",
    "print('There is a vertical attack')\n"
   ]
  },
  {
   "cell_type": "code",
   "execution_count": null,
   "id": "9ab142ae-974a-419a-91e7-aedf906604db",
   "metadata": {},
   "outputs": [],
   "source": [
    "# check a diagonal attack\n",
    "test_board=ChessBoard()\n",
    "test_board.add_red(1,2)\n",
    "test_board.add_blue(3,4)\n",
    "assert test_board.is_under_attack()==True\n",
    "print('There is a diagonal attack')\n"
   ]
  }
 ],
 "metadata": {
  "kernelspec": {
   "display_name": "Python 3",
   "language": "python",
   "name": "python3"
  },
  "language_info": {
   "codemirror_mode": {
    "name": "ipython",
    "version": 3
   },
   "file_extension": ".py",
   "mimetype": "text/x-python",
   "name": "python",
   "nbconvert_exporter": "python",
   "pygments_lexer": "ipython3",
   "version": "3.9.4"
  }
 },
 "nbformat": 4,
 "nbformat_minor": 5
}
